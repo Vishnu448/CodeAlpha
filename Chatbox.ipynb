{
  "nbformat": 4,
  "nbformat_minor": 0,
  "metadata": {
    "colab": {
      "provenance": [],
      "authorship_tag": "ABX9TyNZcVxxegsKW0ijeuWW0WS0",
      "include_colab_link": true
    },
    "kernelspec": {
      "name": "python3",
      "display_name": "Python 3"
    },
    "language_info": {
      "name": "python"
    }
  },
  "cells": [
    {
      "cell_type": "markdown",
      "metadata": {
        "id": "view-in-github",
        "colab_type": "text"
      },
      "source": [
        "<a href=\"https://colab.research.google.com/github/Vishnu448/CodeAlpha/blob/main/Chatbox.ipynb\" target=\"_parent\"><img src=\"https://colab.research.google.com/assets/colab-badge.svg\" alt=\"Open In Colab\"/></a>"
      ]
    },
    {
      "cell_type": "code",
      "source": [
        "# Install nltk\n",
        "!pip install nltk\n"
      ],
      "metadata": {
        "colab": {
          "base_uri": "https://localhost:8080/"
        },
        "id": "fqQ5rSlaZsEs",
        "outputId": "46c1718b-2b80-4211-c27c-58d6de5b31d0"
      },
      "execution_count": 7,
      "outputs": [
        {
          "output_type": "stream",
          "name": "stdout",
          "text": [
            "Requirement already satisfied: nltk in /usr/local/lib/python3.10/dist-packages (3.8.1)\n",
            "Requirement already satisfied: click in /usr/local/lib/python3.10/dist-packages (from nltk) (8.1.7)\n",
            "Requirement already satisfied: joblib in /usr/local/lib/python3.10/dist-packages (from nltk) (1.4.2)\n",
            "Requirement already satisfied: regex>=2021.8.3 in /usr/local/lib/python3.10/dist-packages (from nltk) (2024.5.15)\n",
            "Requirement already satisfied: tqdm in /usr/local/lib/python3.10/dist-packages (from nltk) (4.66.4)\n"
          ]
        }
      ]
    },
    {
      "cell_type": "code",
      "source": [
        "import nltk\n",
        "from nltk.tokenize import word_tokenize\n",
        "from nltk.corpus import stopwords\n",
        "from nltk.stem import WordNetLemmatizer\n",
        "from sklearn.feature_extraction.text import TfidfVectorizer\n",
        "from sklearn.metrics.pairwise import cosine_similarity\n",
        "import random\n",
        "import numpy as np\n",
        "\n",
        "# Download NLTK data\n",
        "nltk.download('punkt')\n",
        "nltk.download('wordnet')\n",
        "nltk.download('stopwords')\n"
      ],
      "metadata": {
        "colab": {
          "base_uri": "https://localhost:8080/"
        },
        "id": "tKxU-pF5clrJ",
        "outputId": "d58c7233-0706-48bc-f342-075609e571dc"
      },
      "execution_count": 14,
      "outputs": [
        {
          "output_type": "stream",
          "name": "stderr",
          "text": [
            "[nltk_data] Downloading package punkt to /root/nltk_data...\n",
            "[nltk_data]   Package punkt is already up-to-date!\n",
            "[nltk_data] Downloading package wordnet to /root/nltk_data...\n",
            "[nltk_data]   Package wordnet is already up-to-date!\n",
            "[nltk_data] Downloading package stopwords to /root/nltk_data...\n",
            "[nltk_data]   Package stopwords is already up-to-date!\n"
          ]
        },
        {
          "output_type": "execute_result",
          "data": {
            "text/plain": [
              "True"
            ]
          },
          "metadata": {},
          "execution_count": 14
        }
      ]
    },
    {
      "cell_type": "code",
      "source": [
        "# Initialize the lemmatizer\n",
        "lemmatizer = WordNetLemmatizer()\n",
        "\n",
        "# Define stop words\n",
        "stop_words = set(stopwords.words('english'))\n",
        "\n",
        "# Sample conversation data\n",
        "conversation_data = [\n",
        "    (\"hello\", \"Hi there! How can I help you?\"),\n",
        "    (\"hi\", \"Hello! How are you?\"),\n",
        "    (\"how are you\", \"I'm doing well, thank you. How can I assist you today?\"),\n",
        "    (\"what is your name\", \"I am a chatbot created by Vishnu. What can I do for you?\"),\n",
        "    (\"what can you do\", \"I can chat with you and answer basic questions. How can I assist you?\"),\n",
        "    (\"bye\", \"Goodbye! Have a great day!\"),\n",
        "    (\"who created you\", \"I was created by Vishnu.\"),\n",
        "    (\"help\", \"How can I assist you? What do you need help with?\")\n",
        "]\n",
        "\n",
        "# Preprocess text\n",
        "def preprocess(text):\n",
        "    # Tokenize text\n",
        "    tokens = word_tokenize(text.lower())\n",
        "    # Remove punctuation and stop words\n",
        "    tokens = [word for word in tokens if word.isalnum() and word not in stop_words]\n",
        "    # Lemmatize tokens\n",
        "    tokens = [lemmatizer.lemmatize(token) for token in tokens]\n",
        "    return ' '.join(tokens)\n",
        "\n",
        "# Preprocess the conversation data\n",
        "preprocessed_conversations = [(preprocess(question), response) for question, response in conversation_data]\n",
        "\n",
        "# Create a list of preprocessed questions and corresponding responses\n",
        "questions, responses = zip(*preprocessed_conversations)\n",
        "\n",
        "# Initialize TF-IDF Vectorizer and fit it to the questions\n",
        "vectorizer = TfidfVectorizer()\n",
        "vectorizer.fit(questions)\n",
        "\n",
        "def get_response(user_input):\n",
        "    # Preprocess the user input\n",
        "    processed_input = preprocess(user_input)\n",
        "    # Transform the user input using the TF-IDF vectorizer\n",
        "    input_vec = vectorizer.transform([processed_input])\n",
        "    # Transform the questions using the TF-IDF vectorizer\n",
        "    questions_vec = vectorizer.transform(questions)\n",
        "    # Compute cosine similarity between the user input and the questions\n",
        "    similarities = cosine_similarity(input_vec, questions_vec)\n",
        "    # Get the index of the most similar question\n",
        "    index = np.argmax(similarities)\n",
        "    # Return the corresponding response\n",
        "    return responses[index]\n",
        "\n",
        "# Create a function to simulate interaction\n",
        "def chatbot_colab():\n",
        "    print(\"Chatbot: Hi! How can I help you? (Type 'bye' to exit)\")\n",
        "    while True:\n",
        "        user_input = input(\"You: \").lower()\n",
        "        if user_input == 'bye':\n",
        "            print(\"Chatbot: Goodbye!\")\n",
        "            break\n",
        "        response = get_response(user_input)\n",
        "        print(f\"Chatbot: {response}\")\n",
        "\n",
        "# Simulate interaction\n",
        "if __name__ == \"__main__\":\n",
        "    chatbot_colab()\n"
      ],
      "metadata": {
        "colab": {
          "base_uri": "https://localhost:8080/"
        },
        "id": "T-GSsir-coLa",
        "outputId": "d93b83a6-0e9d-4a60-b1c4-e23468d019f6"
      },
      "execution_count": 17,
      "outputs": [
        {
          "output_type": "stream",
          "name": "stdout",
          "text": [
            "Chatbot: Hi! How can I help you? (Type 'bye' to exit)\n",
            "You: bye\n",
            "Chatbot: Goodbye!\n"
          ]
        }
      ]
    },
    {
      "cell_type": "code",
      "source": [],
      "metadata": {
        "id": "qV5PloGudjAO"
      },
      "execution_count": 16,
      "outputs": []
    }
  ]
}